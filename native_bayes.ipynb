{
  "cells": [
    {
      "cell_type": "markdown",
      "metadata": {
        "id": "0MRC0e0KhQ0S"
      },
      "source": [
        "# Naive Bayes"
      ]
    },
    {
      "cell_type": "markdown",
      "metadata": {
        "id": "LWd1UlMnhT2s"
      },
      "source": [
        "## Importing the libraries"
      ]
    },
    {
      "cell_type": "code",
      "execution_count": null,
      "metadata": {
        "id": "YvGPUQaHhXfL"
      },
      "outputs": [],
      "source": [
        "import numpy as np\n",
        "import matplotlib.pyplot as plt\n",
        "import pandas as pd"
      ]
    },
    {
      "cell_type": "markdown",
      "metadata": {
        "id": "K1VMqkGvhc3-"
      },
      "source": [
        "## Importing the dataset"
      ]
    },
    {
      "cell_type": "code",
      "execution_count": null,
      "metadata": {
        "id": "M52QDmyzhh9s"
      },
      "outputs": [],
      "source": [
        "dataset = pd.read_csv('Social_Network.csv')\n",
        "x = dataset.iloc[:, [1, 2]].values\n",
        "y = dataset.iloc[:, -1].values"
      ]
    },
    {
      "cell_type": "markdown",
      "source": [
        "- x = ambil semua record pada kolom 1 dan \n",
        "2\n",
        "- y = ambil semua record pada kolom terakhir (sebagai label)"
      ],
      "metadata": {
        "id": "6d-sPvSX4yFq"
      }
    },
    {
      "cell_type": "code",
      "source": [
        "print(x)"
      ],
      "metadata": {
        "colab": {
          "base_uri": "https://localhost:8080/"
        },
        "id": "zUXAynLU4W0B",
        "outputId": "d4d236ca-5368-4f89-8046-3894d3391a39"
      },
      "execution_count": null,
      "outputs": [
        {
          "output_type": "stream",
          "name": "stdout",
          "text": [
            "[[ 27  80]\n",
            " [ 27  77]\n",
            " [ 32  67]\n",
            " [ 25  40]\n",
            " [ 35  60]\n",
            " [ 26  30]\n",
            " [ 26  45]\n",
            " [ 25 100]\n",
            " [ 32  90]\n",
            " [ 31  95]\n",
            " [ 29  80]\n",
            " [ 47  70]\n",
            " [ 45  75]\n",
            " [ 46  60]\n",
            " [ 48  60]\n",
            " [ 45  59]\n",
            " [ 47  80]\n",
            " [ 48 100]\n",
            " [ 45 120]\n",
            " [ 46  60]\n",
            " [ 47  85]\n",
            " [ 49  70]\n",
            " [ 47  90]\n",
            " [ 29  65]\n",
            " [ 31  80]\n",
            " [ 31  77]\n",
            " [ 27  67]\n",
            " [ 24  83]\n",
            " [ 28  59]\n",
            " [ 27  80]\n",
            " [ 35 100]\n",
            " [ 33  60]\n",
            " [ 30  85]\n",
            " [ 26  70]\n",
            " [ 27  90]\n",
            " [ 27  65]\n",
            " [ 33  80]\n",
            " [ 35 110]\n",
            " [ 30  90]\n",
            " [ 28 110]\n",
            " [ 23  80]\n",
            " [ 25  77]\n",
            " [ 27  67]\n",
            " [ 30  83]\n",
            " [ 31  59]\n",
            " [ 24  80]\n",
            " [ 28 100]\n",
            " [ 31  60]\n",
            " [ 32  36]\n",
            " [ 27  70]\n",
            " [ 25  90]\n",
            " [ 32  85]\n",
            " [ 32  70]\n",
            " [ 59  90]\n",
            " [ 24  65]\n",
            " [ 24  80]\n",
            " [ 23  80]\n",
            " [ 35  77]\n",
            " [ 31  67]\n",
            " [ 25  83]\n",
            " [ 24  60]\n",
            " [ 25  59]\n",
            " [ 33  80]\n",
            " [ 32 100]\n",
            " [ 34  90]\n",
            " [ 25  45]\n",
            " [ 33  80]\n",
            " [ 32  70]\n",
            " [ 59 120]\n",
            " [ 24  45]\n",
            " [ 24  40]\n",
            " [ 32  70]\n",
            " [ 35  90]\n",
            " [ 26  45]\n",
            " [ 34  50]]\n"
          ]
        }
      ]
    },
    {
      "cell_type": "code",
      "source": [
        "print(y)"
      ],
      "metadata": {
        "colab": {
          "base_uri": "https://localhost:8080/"
        },
        "id": "mujbpPEB5Fsq",
        "outputId": "dd6fba6d-bbf5-4ef0-9091-545cf004639b"
      },
      "execution_count": null,
      "outputs": [
        {
          "output_type": "stream",
          "name": "stdout",
          "text": [
            "[1 1 1 0 1 0 1 1 1 1 1 0 0 0 0 0 1 1 1 0 0 0 1 0 1 0 0 1 0 0 1 0 1 0 1 0 0\n",
            " 1 1 1 1 0 0 1 0 0 1 0 0 0 1 1 0 1 0 1 0 0 0 1 0 0 1 1 1 0 1 0 1 0 0 0 1 0\n",
            " 0]\n"
          ]
        }
      ]
    },
    {
      "cell_type": "markdown",
      "metadata": {
        "id": "YvxIPVyMhmKp"
      },
      "source": [
        "## Splitting the dataset into the Training set and Test set"
      ]
    },
    {
      "cell_type": "code",
      "execution_count": null,
      "metadata": {
        "id": "AVzJWAXIhxoC"
      },
      "outputs": [],
      "source": [
        "from sklearn.model_selection import train_test_split\n",
        "x_train, x_test, y_train, y_test = train_test_split(x, y, test_size = 0.25, random_state = 0)"
      ]
    },
    {
      "cell_type": "markdown",
      "source": [
        "memsplit data x, y dengan mengambil data 1/4 sebagai data testing dan 3/4 untuk training"
      ],
      "metadata": {
        "id": "2BHtQiva5kFA"
      }
    },
    {
      "cell_type": "code",
      "source": [
        "print(x_train)"
      ],
      "metadata": {
        "colab": {
          "base_uri": "https://localhost:8080/"
        },
        "id": "ei8Wwbxa5-nl",
        "outputId": "c1ec91da-ae35-4782-e291-87c9823aafbe"
      },
      "execution_count": null,
      "outputs": [
        {
          "output_type": "stream",
          "name": "stdout",
          "text": [
            "[[ 23  80]\n",
            " [ 26  45]\n",
            " [ 25  90]\n",
            " [ 59 120]\n",
            " [ 35  60]\n",
            " [ 25  45]\n",
            " [ 32  36]\n",
            " [ 32  67]\n",
            " [ 24  80]\n",
            " [ 33  80]\n",
            " [ 47  70]\n",
            " [ 35 100]\n",
            " [ 25  40]\n",
            " [ 32 100]\n",
            " [ 29  80]\n",
            " [ 33  60]\n",
            " [ 30  90]\n",
            " [ 24  80]\n",
            " [ 27  77]\n",
            " [ 30  85]\n",
            " [ 35  90]\n",
            " [ 48  60]\n",
            " [ 27  67]\n",
            " [ 46  60]\n",
            " [ 27  80]\n",
            " [ 25  59]\n",
            " [ 27  65]\n",
            " [ 45 120]\n",
            " [ 27  80]\n",
            " [ 26  45]\n",
            " [ 45  59]\n",
            " [ 26  30]\n",
            " [ 59  90]\n",
            " [ 47  80]\n",
            " [ 32  85]\n",
            " [ 47  85]\n",
            " [ 24  45]\n",
            " [ 32  90]\n",
            " [ 46  60]\n",
            " [ 31  77]\n",
            " [ 35 110]\n",
            " [ 48 100]\n",
            " [ 31  80]\n",
            " [ 28 100]\n",
            " [ 29  65]\n",
            " [ 28 110]\n",
            " [ 31  67]\n",
            " [ 45  75]\n",
            " [ 33  80]\n",
            " [ 49  70]\n",
            " [ 31  95]\n",
            " [ 32  70]\n",
            " [ 32  70]\n",
            " [ 34  90]\n",
            " [ 31  60]\n",
            " [ 31  59]]\n"
          ]
        }
      ]
    },
    {
      "cell_type": "code",
      "source": [
        "print(x_test)"
      ],
      "metadata": {
        "colab": {
          "base_uri": "https://localhost:8080/"
        },
        "id": "Zsth2qmH6Giv",
        "outputId": "b9d2af8e-ab28-4092-db17-290817d1c90b"
      },
      "execution_count": null,
      "outputs": [
        {
          "output_type": "stream",
          "name": "stdout",
          "text": [
            "[[ 32  70]\n",
            " [ 35  77]\n",
            " [ 47  90]\n",
            " [ 34  50]\n",
            " [ 28  59]\n",
            " [ 27  67]\n",
            " [ 33  80]\n",
            " [ 24  65]\n",
            " [ 27  90]\n",
            " [ 25 100]\n",
            " [ 30  83]\n",
            " [ 25  83]\n",
            " [ 25  77]\n",
            " [ 23  80]\n",
            " [ 26  70]\n",
            " [ 24  40]\n",
            " [ 24  83]\n",
            " [ 27  70]\n",
            " [ 24  60]]\n"
          ]
        }
      ]
    },
    {
      "cell_type": "code",
      "source": [
        "print(y_train)"
      ],
      "metadata": {
        "colab": {
          "base_uri": "https://localhost:8080/"
        },
        "id": "LZ3b2_rD6QeZ",
        "outputId": "58eb3909-e97d-4ce8-b4f0-d9d13e8dda29"
      },
      "execution_count": null,
      "outputs": [
        {
          "output_type": "stream",
          "name": "stdout",
          "text": [
            "[0 1 1 1 1 0 0 1 0 1 0 1 0 1 1 0 1 1 1 1 1 0 0 0 0 0 0 1 1 0 0 0 1 1 1 0 0\n",
            " 1 0 0 1 1 1 1 0 1 0 0 0 0 1 0 0 1 0 0]\n"
          ]
        }
      ]
    },
    {
      "cell_type": "code",
      "source": [
        "print(y_test)"
      ],
      "metadata": {
        "colab": {
          "base_uri": "https://localhost:8080/"
        },
        "id": "VeHBTM9C6UFe",
        "outputId": "99322dd0-f04d-4118-9c58-5daf4a078e73"
      },
      "execution_count": null,
      "outputs": [
        {
          "output_type": "stream",
          "name": "stdout",
          "text": [
            "[0 0 1 0 0 0 1 0 1 1 1 1 0 1 0 0 1 0 0]\n"
          ]
        }
      ]
    },
    {
      "cell_type": "markdown",
      "metadata": {
        "id": "kW3c7UYih0hT"
      },
      "source": [
        "## Feature Scaling"
      ]
    },
    {
      "cell_type": "code",
      "execution_count": null,
      "metadata": {
        "id": "9fQlDPKCh8sc"
      },
      "outputs": [],
      "source": [
        "from sklearn.preprocessing import StandardScaler\n",
        "sc = StandardScaler()\n",
        "x_train = sc.fit_transform(x_train)\n",
        "x_test = sc.transform(x_test)"
      ]
    },
    {
      "cell_type": "markdown",
      "source": [
        "membuat skala dengan menstransform data train dan test variabel X"
      ],
      "metadata": {
        "id": "xFvyk8UX6n9T"
      }
    },
    {
      "cell_type": "code",
      "source": [
        "print(x_train)"
      ],
      "metadata": {
        "colab": {
          "base_uri": "https://localhost:8080/"
        },
        "id": "S9dwULgq61oS",
        "outputId": "5c6ee511-ff6d-4f67-957f-c60ca8c1e871"
      },
      "execution_count": null,
      "outputs": [
        {
          "output_type": "stream",
          "name": "stdout",
          "text": [
            "[[-1.21810671  0.2390019 ]\n",
            " [-0.88152459 -1.51546899]\n",
            " [-0.99371863  0.7402793 ]\n",
            " [ 2.8208787   2.2441115 ]\n",
            " [ 0.12822176 -0.7635529 ]\n",
            " [-0.99371863 -1.51546899]\n",
            " [-0.20836036 -1.96661865]\n",
            " [-0.20836036 -0.41265872]\n",
            " [-1.10591267  0.2390019 ]\n",
            " [-0.09616632  0.2390019 ]\n",
            " [ 1.47455023 -0.2622755 ]\n",
            " [ 0.12822176  1.2415567 ]\n",
            " [-0.99371863 -1.76610769]\n",
            " [-0.20836036  1.2415567 ]\n",
            " [-0.54494248  0.2390019 ]\n",
            " [-0.09616632 -0.7635529 ]\n",
            " [-0.43274844  0.7402793 ]\n",
            " [-1.10591267  0.2390019 ]\n",
            " [-0.76933055  0.08861868]\n",
            " [-0.43274844  0.4896406 ]\n",
            " [ 0.12822176  0.7402793 ]\n",
            " [ 1.58674427 -0.7635529 ]\n",
            " [-0.76933055 -0.41265872]\n",
            " [ 1.36235619 -0.7635529 ]\n",
            " [-0.76933055  0.2390019 ]\n",
            " [-0.99371863 -0.81368064]\n",
            " [-0.76933055 -0.5129142 ]\n",
            " [ 1.25016215  2.2441115 ]\n",
            " [-0.76933055  0.2390019 ]\n",
            " [-0.88152459 -1.51546899]\n",
            " [ 1.25016215 -0.81368064]\n",
            " [-0.88152459 -2.26738509]\n",
            " [ 2.8208787   0.7402793 ]\n",
            " [ 1.47455023  0.2390019 ]\n",
            " [-0.20836036  0.4896406 ]\n",
            " [ 1.47455023  0.4896406 ]\n",
            " [-1.10591267 -1.51546899]\n",
            " [-0.20836036  0.7402793 ]\n",
            " [ 1.36235619 -0.7635529 ]\n",
            " [-0.3205544   0.08861868]\n",
            " [ 0.12822176  1.7428341 ]\n",
            " [ 1.58674427  1.2415567 ]\n",
            " [-0.3205544   0.2390019 ]\n",
            " [-0.65713651  1.2415567 ]\n",
            " [-0.54494248 -0.5129142 ]\n",
            " [-0.65713651  1.7428341 ]\n",
            " [-0.3205544  -0.41265872]\n",
            " [ 1.25016215 -0.0116368 ]\n",
            " [-0.09616632  0.2390019 ]\n",
            " [ 1.69893831 -0.2622755 ]\n",
            " [-0.3205544   0.990918  ]\n",
            " [-0.20836036 -0.2622755 ]\n",
            " [-0.20836036 -0.2622755 ]\n",
            " [ 0.01602772  0.7402793 ]\n",
            " [-0.3205544  -0.7635529 ]\n",
            " [-0.3205544  -0.81368064]]\n"
          ]
        }
      ]
    },
    {
      "cell_type": "code",
      "source": [
        "print(x_test)"
      ],
      "metadata": {
        "colab": {
          "base_uri": "https://localhost:8080/"
        },
        "id": "_I3dubY064Ej",
        "outputId": "3778f6a0-11c0-4c3e-a247-a1e8b7e5c9fe"
      },
      "execution_count": null,
      "outputs": [
        {
          "output_type": "stream",
          "name": "stdout",
          "text": [
            "[[-0.20836036 -0.2622755 ]\n",
            " [ 0.12822176  0.08861868]\n",
            " [ 1.47455023  0.7402793 ]\n",
            " [ 0.01602772 -1.2648303 ]\n",
            " [-0.65713651 -0.81368064]\n",
            " [-0.76933055 -0.41265872]\n",
            " [-0.09616632  0.2390019 ]\n",
            " [-1.10591267 -0.5129142 ]\n",
            " [-0.76933055  0.7402793 ]\n",
            " [-0.99371863  1.2415567 ]\n",
            " [-0.43274844  0.38938512]\n",
            " [-0.99371863  0.38938512]\n",
            " [-0.99371863  0.08861868]\n",
            " [-1.21810671  0.2390019 ]\n",
            " [-0.88152459 -0.2622755 ]\n",
            " [-1.10591267 -1.76610769]\n",
            " [-1.10591267  0.38938512]\n",
            " [-0.76933055 -0.2622755 ]\n",
            " [-1.10591267 -0.7635529 ]]\n"
          ]
        }
      ]
    },
    {
      "cell_type": "markdown",
      "metadata": {
        "id": "bb6jCOCQiAmP"
      },
      "source": [
        "## Training the Naive Bayes model on the Training set"
      ]
    },
    {
      "cell_type": "code",
      "execution_count": null,
      "metadata": {
        "colab": {
          "base_uri": "https://localhost:8080/",
          "height": 74
        },
        "id": "e0pFVAmciHQs",
        "outputId": "a72aac03-1c90-42ad-c537-a352919421c6"
      },
      "outputs": [
        {
          "output_type": "execute_result",
          "data": {
            "text/plain": [
              "GaussianNB()"
            ],
            "text/html": [
              "<style>#sk-container-id-4 {color: black;background-color: white;}#sk-container-id-4 pre{padding: 0;}#sk-container-id-4 div.sk-toggleable {background-color: white;}#sk-container-id-4 label.sk-toggleable__label {cursor: pointer;display: block;width: 100%;margin-bottom: 0;padding: 0.3em;box-sizing: border-box;text-align: center;}#sk-container-id-4 label.sk-toggleable__label-arrow:before {content: \"▸\";float: left;margin-right: 0.25em;color: #696969;}#sk-container-id-4 label.sk-toggleable__label-arrow:hover:before {color: black;}#sk-container-id-4 div.sk-estimator:hover label.sk-toggleable__label-arrow:before {color: black;}#sk-container-id-4 div.sk-toggleable__content {max-height: 0;max-width: 0;overflow: hidden;text-align: left;background-color: #f0f8ff;}#sk-container-id-4 div.sk-toggleable__content pre {margin: 0.2em;color: black;border-radius: 0.25em;background-color: #f0f8ff;}#sk-container-id-4 input.sk-toggleable__control:checked~div.sk-toggleable__content {max-height: 200px;max-width: 100%;overflow: auto;}#sk-container-id-4 input.sk-toggleable__control:checked~label.sk-toggleable__label-arrow:before {content: \"▾\";}#sk-container-id-4 div.sk-estimator input.sk-toggleable__control:checked~label.sk-toggleable__label {background-color: #d4ebff;}#sk-container-id-4 div.sk-label input.sk-toggleable__control:checked~label.sk-toggleable__label {background-color: #d4ebff;}#sk-container-id-4 input.sk-hidden--visually {border: 0;clip: rect(1px 1px 1px 1px);clip: rect(1px, 1px, 1px, 1px);height: 1px;margin: -1px;overflow: hidden;padding: 0;position: absolute;width: 1px;}#sk-container-id-4 div.sk-estimator {font-family: monospace;background-color: #f0f8ff;border: 1px dotted black;border-radius: 0.25em;box-sizing: border-box;margin-bottom: 0.5em;}#sk-container-id-4 div.sk-estimator:hover {background-color: #d4ebff;}#sk-container-id-4 div.sk-parallel-item::after {content: \"\";width: 100%;border-bottom: 1px solid gray;flex-grow: 1;}#sk-container-id-4 div.sk-label:hover label.sk-toggleable__label {background-color: #d4ebff;}#sk-container-id-4 div.sk-serial::before {content: \"\";position: absolute;border-left: 1px solid gray;box-sizing: border-box;top: 0;bottom: 0;left: 50%;z-index: 0;}#sk-container-id-4 div.sk-serial {display: flex;flex-direction: column;align-items: center;background-color: white;padding-right: 0.2em;padding-left: 0.2em;position: relative;}#sk-container-id-4 div.sk-item {position: relative;z-index: 1;}#sk-container-id-4 div.sk-parallel {display: flex;align-items: stretch;justify-content: center;background-color: white;position: relative;}#sk-container-id-4 div.sk-item::before, #sk-container-id-4 div.sk-parallel-item::before {content: \"\";position: absolute;border-left: 1px solid gray;box-sizing: border-box;top: 0;bottom: 0;left: 50%;z-index: -1;}#sk-container-id-4 div.sk-parallel-item {display: flex;flex-direction: column;z-index: 1;position: relative;background-color: white;}#sk-container-id-4 div.sk-parallel-item:first-child::after {align-self: flex-end;width: 50%;}#sk-container-id-4 div.sk-parallel-item:last-child::after {align-self: flex-start;width: 50%;}#sk-container-id-4 div.sk-parallel-item:only-child::after {width: 0;}#sk-container-id-4 div.sk-dashed-wrapped {border: 1px dashed gray;margin: 0 0.4em 0.5em 0.4em;box-sizing: border-box;padding-bottom: 0.4em;background-color: white;}#sk-container-id-4 div.sk-label label {font-family: monospace;font-weight: bold;display: inline-block;line-height: 1.2em;}#sk-container-id-4 div.sk-label-container {text-align: center;}#sk-container-id-4 div.sk-container {/* jupyter's `normalize.less` sets `[hidden] { display: none; }` but bootstrap.min.css set `[hidden] { display: none !important; }` so we also need the `!important` here to be able to override the default hidden behavior on the sphinx rendered scikit-learn.org. See: https://github.com/scikit-learn/scikit-learn/issues/21755 */display: inline-block !important;position: relative;}#sk-container-id-4 div.sk-text-repr-fallback {display: none;}</style><div id=\"sk-container-id-4\" class=\"sk-top-container\"><div class=\"sk-text-repr-fallback\"><pre>GaussianNB()</pre><b>In a Jupyter environment, please rerun this cell to show the HTML representation or trust the notebook. <br />On GitHub, the HTML representation is unable to render, please try loading this page with nbviewer.org.</b></div><div class=\"sk-container\" hidden><div class=\"sk-item\"><div class=\"sk-estimator sk-toggleable\"><input class=\"sk-toggleable__control sk-hidden--visually\" id=\"sk-estimator-id-4\" type=\"checkbox\" checked><label for=\"sk-estimator-id-4\" class=\"sk-toggleable__label sk-toggleable__label-arrow\">GaussianNB</label><div class=\"sk-toggleable__content\"><pre>GaussianNB()</pre></div></div></div></div></div>"
            ]
          },
          "metadata": {},
          "execution_count": 143
        }
      ],
      "source": [
        "from sklearn.naive_bayes import GaussianNB\n",
        "classifier = GaussianNB()\n",
        "classifier.fit(x_train, y_train)"
      ]
    },
    {
      "cell_type": "markdown",
      "metadata": {
        "id": "ZmePIEiiiKyw"
      },
      "source": [
        "## Predicting the Test set results"
      ]
    },
    {
      "cell_type": "code",
      "execution_count": null,
      "metadata": {
        "id": "aWK4AcCgiNwF"
      },
      "outputs": [],
      "source": [
        "y_pred = classifier.predict(x_test)"
      ]
    },
    {
      "cell_type": "markdown",
      "metadata": {
        "id": "h4Hwj34ziWQW"
      },
      "source": [
        "## Making the Confusion Matrix"
      ]
    },
    {
      "cell_type": "code",
      "execution_count": null,
      "metadata": {
        "colab": {
          "base_uri": "https://localhost:8080/"
        },
        "id": "D6bpZwUiiXic",
        "outputId": "b49e1bdb-f03d-4a44-cd2c-6470e12920ad"
      },
      "outputs": [
        {
          "output_type": "stream",
          "name": "stdout",
          "text": [
            "[[10  1]\n",
            " [ 0  8]]\n"
          ]
        }
      ],
      "source": [
        "from sklearn.metrics import confusion_matrix\n",
        "cm = confusion_matrix(y_test, y_pred)\n",
        "print(cm)"
      ]
    },
    {
      "cell_type": "markdown",
      "metadata": {
        "id": "6OMC_P0diaoD"
      },
      "source": [
        "## Visualising the Training set results"
      ]
    },
    {
      "cell_type": "code",
      "execution_count": null,
      "metadata": {
        "colab": {
          "base_uri": "https://localhost:8080/",
          "height": 527
        },
        "id": "_NOjKvZRid5l",
        "outputId": "7519446f-3118-4aca-f51b-e638f1a627f9"
      },
      "outputs": [
        {
          "output_type": "stream",
          "name": "stderr",
          "text": [
            "<ipython-input-146-8f696b1516af>:14: UserWarning: *c* argument looks like a single numeric RGB or RGBA sequence, which should be avoided as value-mapping will have precedence in case its length matches with *x* & *y*.  Please use the *color* keyword-argument or provide a 2D array with a single row if you intend to specify the same RGB or RGBA value for all points.\n",
            "  plt.scatter(x_set[y_set == j, 0], x_set[y_set == j, 1],\n"
          ]
        },
        {
          "output_type": "display_data",
          "data": {
            "text/plain": [
              "<Figure size 640x480 with 1 Axes>"
            ],
            "image/png": "[encoded data removed]"
          },
          "metadata": {}
        }
      ],
      "source": [
        "from matplotlib.colors import ListedColormap\n",
        "x_set, y_set = x_train, y_train\n",
        "#menyusun data pertama - terakhir\n",
        "x1, x2 = np.meshgrid(np.arange(start = x_set[:, 0].min() - 1, stop = x_set[:, 0].max() + 1, step = 0.01),\n",
        "                     np.arange(start = x_set[:, 1].min() - 1, stop = x_set[:, 1].max() + 1, step = 0.01))\n",
        "#memberi warna pada setiap label\n",
        "plt.contourf(x1, x2, classifier.predict(np.array([x1.ravel(), x2.ravel()]).T).reshape(x1.shape),\n",
        "             alpha = 0.75, cmap = ListedColormap(('red', 'green')))\n",
        "plt.xlim(x1.min(), x1.max())\n",
        "plt.ylim(x2.min(), x2.max())\n",
        "\n",
        "#data disebarkan dengan fungsi scatter\n",
        "for i, j in enumerate(np.unique(y_set)):\n",
        "    plt.scatter(x_set[y_set == j, 0], x_set[y_set == j, 1],\n",
        "                #memberikan warna pada data 0(merah), data 1(hijau)\n",
        "                c = ListedColormap(('red', 'green'))(i), label = j)\n",
        "plt.title('Naive Bayes (Training set)')\n",
        "plt.xlabel('Umur')\n",
        "plt.ylabel('Gaji')\n",
        "plt.legend()\n",
        "plt.show()"
      ]
    },
    {
      "cell_type": "markdown",
      "source": [
        "- membuat penyebawan data dari data x_train dan y_train (umur dan gaji)\n",
        "- memisahkan nilai umur [:,0] dan gaji [:,1]\n",
        "- ListedColormap = memisahkan warna, label 1 warna merah, label 2 warna hijau"
      ],
      "metadata": {
        "id": "3e8fqMLZ_S4w"
      }
    },
    {
      "cell_type": "markdown",
      "metadata": {
        "id": "SZ-j28aPihZx"
      },
      "source": [
        "## Visualising the Test set results"
      ]
    },
    {
      "cell_type": "code",
      "execution_count": null,
      "metadata": {
        "colab": {
          "base_uri": "https://localhost:8080/",
          "height": 527
        },
        "id": "qeTjz2vDilAC",
        "outputId": "1364956a-6f29-43f8-c684-daa60125fb5a"
      },
      "outputs": [
        {
          "output_type": "stream",
          "name": "stderr",
          "text": [
            "<ipython-input-147-e9c9a1cb9973>:10: UserWarning: *c* argument looks like a single numeric RGB or RGBA sequence, which should be avoided as value-mapping will have precedence in case its length matches with *x* & *y*.  Please use the *color* keyword-argument or provide a 2D array with a single row if you intend to specify the same RGB or RGBA value for all points.\n",
            "  plt.scatter(x_set[y_set == j, 0], x_set[y_set == j, 1],\n"
          ]
        },
        {
          "output_type": "display_data",
          "data": {
            "text/plain": [
              "<Figure size 640x480 with 1 Axes>"
            ],
            "image/png": "[encoded data removed]"
          },
          "metadata": {}
        }
      ],
      "source": [
        "from matplotlib.colors import ListedColormap\n",
        "x_set, y_set = x_test, y_test\n",
        "x1, x2 = np.meshgrid(np.arange(start = x_set[:, 0].min() - 1, stop = x_set[:, 0].max() + 1, step = 0.01),\n",
        "                     np.arange(start = x_set[:, 1].min() - 1, stop = x_set[:, 1].max() + 1, step = 0.01))\n",
        "plt.contourf(x1, x2, classifier.predict(np.array([x1.ravel(), x2.ravel()]).T).reshape(x1.shape),\n",
        "             alpha = 0.75, cmap = ListedColormap(('red', 'green')))\n",
        "plt.xlim(x1.min(), x1.max())\n",
        "plt.ylim(x2.min(), x2.max())\n",
        "for i, j in enumerate(np.unique(y_set)):\n",
        "    plt.scatter(x_set[y_set == j, 0], x_set[y_set == j, 1],\n",
        "                c = ListedColormap(('red', 'green'))(i), label = j)\n",
        "plt.title('Naive Bayes (Test set)')\n",
        "plt.xlabel('Umur')\n",
        "plt.ylabel('Gaji')\n",
        "plt.legend()\n",
        "plt.show()"
      ]
    }
  ],
  "metadata": {
    "colab": {
      "provenance": []
    },
    "kernelspec": {
      "display_name": "Python 3",
      "language": "python",
      "name": "python3"
    },
    "language_info": {
      "codemirror_mode": {
        "name": "ipython",
        "version": 3
      },
      "file_extension": ".py",
      "mimetype": "text/x-python",
      "name": "python",
      "nbconvert_exporter": "python",
      "pygments_lexer": "ipython3",
      "version": "3.6.5"
    }
  },
  "nbformat": 4,
  "nbformat_minor": 0
}